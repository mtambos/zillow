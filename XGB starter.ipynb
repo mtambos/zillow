{
 "cells": [
  {
   "cell_type": "code",
   "execution_count": 3,
   "metadata": {
    "collapsed": true
   },
   "outputs": [],
   "source": [
    "import numpy as np\n",
    "import pandas as pd\n",
    "import xgboost as xgb\n",
    "from sklearn.model_selection import train_test_split\n",
    "from sklearn.metrics import mean_absolute_error"
   ]
  },
  {
   "cell_type": "code",
   "execution_count": 4,
   "metadata": {},
   "outputs": [
    {
     "name": "stdout",
     "output_type": "stream",
     "text": [
      "Loading data ...\n"
     ]
    },
    {
     "name": "stderr",
     "output_type": "stream",
     "text": [
      "/home/mtambos/anaconda3/lib/python3.6/site-packages/IPython/core/interactiveshell.py:2698: DtypeWarning: Columns (22,32,34,49,55) have mixed types. Specify dtype option on import or set low_memory=False.\n",
      "  interactivity=interactivity, compiler=compiler, result=result)\n"
     ]
    }
   ],
   "source": [
    "print('Loading data ...')\n",
    "\n",
    "train = pd.read_csv('data/train_2016_v2.csv')\n",
    "prop = pd.read_csv('data/properties_2016.csv')"
   ]
  },
  {
   "cell_type": "code",
   "execution_count": 5,
   "metadata": {},
   "outputs": [
    {
     "name": "stdout",
     "output_type": "stream",
     "text": [
      "Binding to float32\n"
     ]
    }
   ],
   "source": [
    "print('Binding to float32')\n",
    "\n",
    "for c, dtype in zip(prop.columns, prop.dtypes):\n",
    "    if dtype == np.float64:\n",
    "        prop[c] = prop[c].astype(np.float32)"
   ]
  },
  {
   "cell_type": "code",
   "execution_count": 6,
   "metadata": {},
   "outputs": [
    {
     "name": "stdout",
     "output_type": "stream",
     "text": [
      "Creating training set ...\n",
      "(90275, 55) (90275,)\n"
     ]
    }
   ],
   "source": [
    "print('Creating training set ...')\n",
    "\n",
    "df_train = train.merge(prop, how='left', on='parcelid')\n",
    "\n",
    "x_train = df_train.drop(['parcelid', 'logerror', 'transactiondate', 'propertyzoningdesc', 'propertycountylandusecode'], axis=1)\n",
    "y_train = df_train['logerror'].values\n",
    "print(x_train.shape, y_train.shape)\n",
    "\n",
    "train_columns = x_train.columns\n",
    "\n",
    "for c in x_train.dtypes[x_train.dtypes == object].index.values:\n",
    "    x_train[c] = (x_train[c] == True)\n",
    "\n",
    "x_train, x_test, y_train, y_test = train_test_split(x_train, y_train, test_size=0.2, random_state=0)\n",
    "x_train, x_valid, y_train, y_valid = train_test_split(x_train, y_train, test_size=0.2, random_state=0)"
   ]
  },
  {
   "cell_type": "code",
   "execution_count": 7,
   "metadata": {},
   "outputs": [
    {
     "name": "stdout",
     "output_type": "stream",
     "text": [
      "Building DMatrix...\n"
     ]
    }
   ],
   "source": [
    "print('Building DMatrix...')\n",
    "\n",
    "d_train = xgb.DMatrix(x_train, label=y_train)\n",
    "d_valid = xgb.DMatrix(x_valid, label=y_valid)"
   ]
  },
  {
   "cell_type": "code",
   "execution_count": 8,
   "metadata": {
    "scrolled": true
   },
   "outputs": [
    {
     "name": "stdout",
     "output_type": "stream",
     "text": [
      "Training ...\n",
      "[0]\ttrain-mae:0.487235\tvalid-mae:0.486996\n",
      "Multiple eval metrics have been passed: 'valid-mae' will be used for early stopping.\n",
      "\n",
      "Will train until valid-mae hasn't improved in 100 rounds.\n",
      "[10]\ttrain-mae:0.401383\tvalid-mae:0.401468\n",
      "[20]\ttrain-mae:0.331843\tvalid-mae:0.332125\n",
      "[30]\ttrain-mae:0.275689\tvalid-mae:0.276125\n",
      "[40]\ttrain-mae:0.230503\tvalid-mae:0.231019\n",
      "[50]\ttrain-mae:0.194266\tvalid-mae:0.194872\n",
      "[60]\ttrain-mae:0.165369\tvalid-mae:0.16606\n",
      "[70]\ttrain-mae:0.142402\tvalid-mae:0.143187\n",
      "[80]\ttrain-mae:0.124278\tvalid-mae:0.12517\n",
      "[90]\ttrain-mae:0.110099\tvalid-mae:0.111126\n",
      "[100]\ttrain-mae:0.099146\tvalid-mae:0.100324\n",
      "[110]\ttrain-mae:0.090778\tvalid-mae:0.092075\n",
      "[120]\ttrain-mae:0.084456\tvalid-mae:0.085868\n",
      "[130]\ttrain-mae:0.079763\tvalid-mae:0.081295\n",
      "[140]\ttrain-mae:0.076329\tvalid-mae:0.07798\n",
      "[150]\ttrain-mae:0.073832\tvalid-mae:0.075582\n",
      "[160]\ttrain-mae:0.072008\tvalid-mae:0.073843\n",
      "[170]\ttrain-mae:0.070688\tvalid-mae:0.07259\n",
      "[180]\ttrain-mae:0.069742\tvalid-mae:0.071698\n",
      "[190]\ttrain-mae:0.06905\tvalid-mae:0.071052\n",
      "[200]\ttrain-mae:0.068542\tvalid-mae:0.070592\n",
      "[210]\ttrain-mae:0.068167\tvalid-mae:0.070247\n",
      "[220]\ttrain-mae:0.067891\tvalid-mae:0.070005\n",
      "[230]\ttrain-mae:0.067682\tvalid-mae:0.069835\n",
      "[240]\ttrain-mae:0.067521\tvalid-mae:0.069705\n",
      "[250]\ttrain-mae:0.06739\tvalid-mae:0.069617\n",
      "[260]\ttrain-mae:0.067288\tvalid-mae:0.069549\n",
      "[270]\ttrain-mae:0.06721\tvalid-mae:0.069502\n",
      "[280]\ttrain-mae:0.067142\tvalid-mae:0.069462\n",
      "[290]\ttrain-mae:0.067086\tvalid-mae:0.069433\n",
      "[300]\ttrain-mae:0.067037\tvalid-mae:0.069413\n",
      "[310]\ttrain-mae:0.066998\tvalid-mae:0.069406\n",
      "[320]\ttrain-mae:0.06696\tvalid-mae:0.069395\n",
      "[330]\ttrain-mae:0.066926\tvalid-mae:0.069387\n",
      "[340]\ttrain-mae:0.066895\tvalid-mae:0.069393\n",
      "[350]\ttrain-mae:0.066871\tvalid-mae:0.069395\n",
      "[360]\ttrain-mae:0.066849\tvalid-mae:0.069407\n",
      "[370]\ttrain-mae:0.066827\tvalid-mae:0.06941\n",
      "[380]\ttrain-mae:0.066804\tvalid-mae:0.06941\n",
      "[390]\ttrain-mae:0.066782\tvalid-mae:0.069418\n",
      "[400]\ttrain-mae:0.066766\tvalid-mae:0.06942\n",
      "[410]\ttrain-mae:0.066746\tvalid-mae:0.069433\n",
      "[420]\ttrain-mae:0.066729\tvalid-mae:0.069441\n",
      "[430]\ttrain-mae:0.066708\tvalid-mae:0.069452\n",
      "Stopping. Best iteration:\n",
      "[330]\ttrain-mae:0.066926\tvalid-mae:0.069387\n",
      "\n"
     ]
    }
   ],
   "source": [
    "print('Training ...')\n",
    "\n",
    "params = {}\n",
    "params['eta'] = 0.02\n",
    "params['objective'] = 'reg:linear'\n",
    "params['eval_metric'] = 'mae'\n",
    "params['max_depth'] = 4\n",
    "params['silent'] = 0\n",
    "\n",
    "watchlist = [(d_train, 'train'), (d_valid, 'valid')]\n",
    "clf = xgb.train(params, d_train, 10000, watchlist, early_stopping_rounds=100, verbose_eval=10)"
   ]
  },
  {
   "cell_type": "code",
   "execution_count": 9,
   "metadata": {},
   "outputs": [
    {
     "name": "stdout",
     "output_type": "stream",
     "text": [
      "Predicting on test ...\n"
     ]
    },
    {
     "data": {
      "text/plain": [
       "0.068312834545696449"
      ]
     },
     "execution_count": 9,
     "metadata": {},
     "output_type": "execute_result"
    }
   ],
   "source": [
    "print('Predicting on test ...')\n",
    "d_test = xgb.DMatrix(x_test)\n",
    "\n",
    "p_test = clf.predict(d_test)\n",
    "mean_absolute_error(y_test, p_test)"
   ]
  }
 ],
 "metadata": {
  "kernelspec": {
   "display_name": "Python 3",
   "language": "python",
   "name": "python3"
  },
  "language_info": {
   "codemirror_mode": {
    "name": "ipython",
    "version": 3
   },
   "file_extension": ".py",
   "mimetype": "text/x-python",
   "name": "python",
   "nbconvert_exporter": "python",
   "pygments_lexer": "ipython3",
   "version": "3.6.2"
  }
 },
 "nbformat": 4,
 "nbformat_minor": 2
}
